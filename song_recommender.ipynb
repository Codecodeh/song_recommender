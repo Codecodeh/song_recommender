{
 "cells": [
  {
   "cell_type": "code",
   "execution_count": 1,
   "metadata": {},
   "outputs": [
    {
     "data": {
      "application/vnd.jupyter.widget-view+json": {
       "model_id": "a997bbe89c1f49dab8cd189852517004",
       "version_major": 2,
       "version_minor": 0
      },
      "text/plain": [
       "Text(value='', description='User ID:')"
      ]
     },
     "metadata": {},
     "output_type": "display_data"
    },
    {
     "data": {
      "application/vnd.jupyter.widget-view+json": {
       "model_id": "1f0f600528db4ac995a764b3056db922",
       "version_major": 2,
       "version_minor": 0
      },
      "text/plain": [
       "Text(value='', description='Listened Song:')"
      ]
     },
     "metadata": {},
     "output_type": "display_data"
    },
    {
     "data": {
      "application/vnd.jupyter.widget-view+json": {
       "model_id": "18d13dfada4e4656bdf8ce77d880ec67",
       "version_major": 2,
       "version_minor": 0
      },
      "text/plain": [
       "Button(description='Recommend', style=ButtonStyle())"
      ]
     },
     "metadata": {},
     "output_type": "display_data"
    },
    {
     "data": {
      "application/vnd.jupyter.widget-view+json": {
       "model_id": "c8931c974724465dbb420316ea39baf6",
       "version_major": 2,
       "version_minor": 0
      },
      "text/plain": [
       "Output()"
      ]
     },
     "metadata": {},
     "output_type": "display_data"
    }
   ],
   "source": [
    "import pandas as pd\n",
    "from sklearn.neighbors import NearestNeighbors\n",
    "import ipywidgets as widgets\n",
    "from IPython.display import display, clear_output\n",
    "import warnings\n",
    "\n",
    "warnings.filterwarnings('ignore', category=UserWarning)\n",
    "# Load and preprocess the dataset\n",
    "df = pd.read_csv('song_dataset.csv')\n",
    "df.drop_duplicates(inplace=True)  # Remove duplicate rows\n",
    "df.dropna(inplace=True)  # Remove rows with missing values\n",
    "\n",
    "# Create a user-song matrix for the recommendation system\n",
    "user_song_matrix = df.pivot_table(index='user', columns='song', values='play_count').fillna(0)\n",
    "\n",
    "# Initialize and train the NearestNeighbors model\n",
    "model_knn = NearestNeighbors(metric='cosine', algorithm='brute', n_neighbors=20, n_jobs=-1)\n",
    "model_knn.fit(user_song_matrix)\n",
    "\n",
    "# Define the song recommendation function\n",
    "def recommend_songs(user_id, data, model, original_df, listened_song, n_recommendations=5):\n",
    "    if user_id not in data.index:\n",
    "        return [\"User ID not found.\"]\n",
    "    if listened_song not in original_df['title'].values:\n",
    "        return [\"Song not found.\"]\n",
    "    \n",
    "    user_index = data.index.tolist().index(user_id)\n",
    "    distances, indices = model.kneighbors(data.iloc[user_index, :].values.reshape(1, -1), n_neighbors=n_recommendations+10)\n",
    "    \n",
    "    recommendations = []\n",
    "    for i in range(1, len(distances.flatten())):\n",
    "        song_id = data.columns[indices.flatten()[i]]\n",
    "        if len(recommendations) < n_recommendations:\n",
    "            song_info = original_df[original_df['song'] == song_id].iloc[0]\n",
    "            if song_info['title'] != listened_song:\n",
    "                recommendations.append({\n",
    "                    'title': song_info['title'],\n",
    "                    'release': song_info['release'],\n",
    "                    'artist_name': song_info['artist_name'],\n",
    "                    'year': song_info['year']\n",
    "                })\n",
    "    return recommendations\n",
    "\n",
    "# Create interactive widgets\n",
    "user_id_input = widgets.Text(description='User ID:')\n",
    "listened_song_input = widgets.Text(description='Listened Song:')\n",
    "recommend_button = widgets.Button(description='Recommend')\n",
    "output = widgets.Output()\n",
    "\n",
    "# Function to handle the Recommend button click\n",
    "def on_recommend_button_clicked(b):\n",
    "    with output:\n",
    "        clear_output()\n",
    "        recommendations = recommend_songs(user_id_input.value, user_song_matrix, model_knn, df, listened_song_input.value)\n",
    "\n",
    "        if recommendations and isinstance(recommendations[0], dict):\n",
    "            for rec in recommendations:\n",
    "                print(f\"Title: {rec['title']}, Artist: {rec['artist_name']}, Release: {rec['release']}, Year: {rec['year']}\")\n",
    "        else:\n",
    "            for rec in recommendations:\n",
    "                print(rec)\n",
    "\n",
    "\n",
    "# Link the button click event to the handler function\n",
    "recommend_button.on_click(on_recommend_button_clicked)\n",
    "\n",
    "# Display the widgets\n",
    "display(user_id_input, listened_song_input, recommend_button, output)\n"
   ]
  },
  {
   "cell_type": "code",
   "execution_count": 2,
   "metadata": {},
   "outputs": [
    {
     "data": {
      "application/vnd.jupyter.widget-view+json": {
       "model_id": "a997bbe89c1f49dab8cd189852517004",
       "version_major": 2,
       "version_minor": 0
      },
      "text/plain": [
       "Text(value='b80344d063b5ccb3212f76538f3d9e43d87dca9e', description='User ID:')"
      ]
     },
     "metadata": {},
     "output_type": "display_data"
    },
    {
     "data": {
      "application/vnd.jupyter.widget-view+json": {
       "model_id": "1f0f600528db4ac995a764b3056db922",
       "version_major": 2,
       "version_minor": 0
      },
      "text/plain": [
       "Text(value='Stronger', description='Listened Song:')"
      ]
     },
     "metadata": {},
     "output_type": "display_data"
    },
    {
     "data": {
      "application/vnd.jupyter.widget-view+json": {
       "model_id": "18d13dfada4e4656bdf8ce77d880ec67",
       "version_major": 2,
       "version_minor": 0
      },
      "text/plain": [
       "Button(description='Recommend', style=ButtonStyle())"
      ]
     },
     "metadata": {},
     "output_type": "display_data"
    },
    {
     "data": {
      "application/vnd.jupyter.widget-view+json": {
       "model_id": "c8931c974724465dbb420316ea39baf6",
       "version_major": 2,
       "version_minor": 0
      },
      "text/plain": [
       "Output()"
      ]
     },
     "metadata": {},
     "output_type": "display_data"
    }
   ],
   "source": [
    "# Test\n",
    "user_id_input.value = 'b80344d063b5ccb3212f76538f3d9e43d87dca9e'\n",
    "listened_song_input.value = 'Stronger'\n",
    "\n",
    "\n",
    "on_recommend_button_clicked(None)\n",
    "\n",
    "\n",
    "display(user_id_input, listened_song_input, recommend_button, output)\n"
   ]
  }
 ],
 "metadata": {
  "kernelspec": {
   "display_name": "pytorch",
   "language": "python",
   "name": "python3"
  },
  "language_info": {
   "codemirror_mode": {
    "name": "ipython",
    "version": 3
   },
   "file_extension": ".py",
   "mimetype": "text/x-python",
   "name": "python",
   "nbconvert_exporter": "python",
   "pygments_lexer": "ipython3",
   "version": "3.8.13"
  }
 },
 "nbformat": 4,
 "nbformat_minor": 2
}
